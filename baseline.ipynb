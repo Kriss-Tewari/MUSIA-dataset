{
 "cells": [
  {
   "cell_type": "markdown",
   "metadata": {
    "id": "X4YLB7MzMOEl"
   },
   "source": [
    "# **MUSIA** 2025: Baseline Story-to-Image Generation & Submission Guide"
   ]
  },
  {
   "cell_type": "markdown",
   "metadata": {
    "id": "_M3JQobvMvry"
   },
   "source": [
    "**Author**: MUSIA 2025 Organizing Committee\n",
    "\n",
    "**Purpose**: This notebook provides a baseline pipeline for the MUSIA 2025 Shared Task, focusing on generating high-fidelity synthetic images from multilingual stories using state-of-the-art generative models.\n",
    "\n",
    "This notebook is designed to:\n",
    "\n",
    "* Load the mapping file that specifies how many images to generate for each story.\n",
    "* Read and process the test stories from the MUSIA testing corpus.\n",
    "* Use a fine-tuned transformer-based summarizer (trained on MUSIA training stories) to create concise textual summaries.\n",
    "* Pass these summaries as prompts to a Stable Diffusion XL pipeline to generate photorealistic synthetic images.\n",
    "* Save the generated outputs in the official submission format.\n",
    "* Present examples of generated images along with human evaluation results for qualitative assessment.\n"
   ]
  },
  {
   "cell_type": "markdown",
   "metadata": {
    "id": "rpyOSqdVO4no"
   },
   "source": [
    "## Environment Setup and Imports\n",
    "\n",
    "Installs required libraries including `transformers` for summarization and `diffusers` for image generation. Then imports all necessary packages for file handling, modeling, and image output.\n"
   ]
  },
  {
   "cell_type": "code",
   "execution_count": null,
   "metadata": {
    "colab": {
     "base_uri": "https://localhost:8080/"
    },
    "id": "Afs-7kj1xhy5",
    "outputId": "52e85122-1c92-476d-8a65-7830edf3c456"
   },
   "outputs": [
    {
     "name": "stdout",
     "output_type": "stream",
     "text": [
      "Requirement already satisfied: diffusers in /usr/local/lib/python3.11/dist-packages (0.34.0)\n",
      "Requirement already satisfied: importlib_metadata in /usr/local/lib/python3.11/dist-packages (from diffusers) (8.7.0)\n",
      "Requirement already satisfied: filelock in /usr/local/lib/python3.11/dist-packages (from diffusers) (3.18.0)\n",
      "Requirement already satisfied: huggingface-hub>=0.27.0 in /usr/local/lib/python3.11/dist-packages (from diffusers) (0.33.1)\n",
      "Requirement already satisfied: numpy in /usr/local/lib/python3.11/dist-packages (from diffusers) (2.0.2)\n",
      "Requirement already satisfied: regex!=2019.12.17 in /usr/local/lib/python3.11/dist-packages (from diffusers) (2024.11.6)\n",
      "Requirement already satisfied: requests in /usr/local/lib/python3.11/dist-packages (from diffusers) (2.32.3)\n",
      "Requirement already satisfied: safetensors>=0.3.1 in /usr/local/lib/python3.11/dist-packages (from diffusers) (0.5.3)\n",
      "Requirement already satisfied: Pillow in /usr/local/lib/python3.11/dist-packages (from diffusers) (11.2.1)\n",
      "Requirement already satisfied: fsspec>=2023.5.0 in /usr/local/lib/python3.11/dist-packages (from huggingface-hub>=0.27.0->diffusers) (2025.3.2)\n",
      "Requirement already satisfied: packaging>=20.9 in /usr/local/lib/python3.11/dist-packages (from huggingface-hub>=0.27.0->diffusers) (24.2)\n",
      "Requirement already satisfied: pyyaml>=5.1 in /usr/local/lib/python3.11/dist-packages (from huggingface-hub>=0.27.0->diffusers) (6.0.2)\n",
      "Requirement already satisfied: tqdm>=4.42.1 in /usr/local/lib/python3.11/dist-packages (from huggingface-hub>=0.27.0->diffusers) (4.67.1)\n",
      "Requirement already satisfied: typing-extensions>=3.7.4.3 in /usr/local/lib/python3.11/dist-packages (from huggingface-hub>=0.27.0->diffusers) (4.14.0)\n",
      "Requirement already satisfied: hf-xet<2.0.0,>=1.1.2 in /usr/local/lib/python3.11/dist-packages (from huggingface-hub>=0.27.0->diffusers) (1.1.5)\n",
      "Requirement already satisfied: zipp>=3.20 in /usr/local/lib/python3.11/dist-packages (from importlib_metadata->diffusers) (3.23.0)\n",
      "Requirement already satisfied: charset-normalizer<4,>=2 in /usr/local/lib/python3.11/dist-packages (from requests->diffusers) (3.4.2)\n",
      "Requirement already satisfied: idna<4,>=2.5 in /usr/local/lib/python3.11/dist-packages (from requests->diffusers) (3.10)\n",
      "Requirement already satisfied: urllib3<3,>=1.21.1 in /usr/local/lib/python3.11/dist-packages (from requests->diffusers) (2.4.0)\n",
      "Requirement already satisfied: certifi>=2017.4.17 in /usr/local/lib/python3.11/dist-packages (from requests->diffusers) (2025.6.15)\n"
     ]
    }
   ],
   "source": [
    "!pip install -q transformers\n",
    "!pip install -U diffusers\n",
    "import os\n",
    "import json\n",
    "import math\n",
    "import torch\n",
    "from transformers import pipeline\n",
    "from diffusers import DiffusionPipeline\n",
    "import torch\n",
    "from PIL import Image"
   ]
  },
  {
   "cell_type": "markdown",
   "metadata": {
    "id": "JLHEXzqYO8NR"
   },
   "source": [
    "## Load Summarization Pipeline\n",
    "\n",
    "Initializes a fine-tuned summarization model specifically trained on MUSIA training stories. This model will be used to convert each full-length story into a concise summary that serves as the input prompt for the image generation model.\n"
   ]
  },
  {
   "cell_type": "code",
   "execution_count": null,
   "metadata": {
    "colab": {
     "base_uri": "https://localhost:8080/",
     "height": 383,
     "referenced_widgets": [
      "586a8dc5e3d346d9a0622dcc980c099f",
      "26a91c56578e45ceb721df8c42b90cfc",
      "d39b10e118af4321b9fc37a3bc8a0765",
      "e33d1d9d77744c3fbc707d3835d1e722",
      "5eb7cf0fd4d54a4cbcb216ed787399c1",
      "ea9c5e7d93dc4094bcf678f281819b68",
      "060fb07cdb1e437aa90b358ac4ab30dc",
      "45a44d6d0e404e1f9b68bf0172468735",
      "514900c3362b4eed81121e10da900d52",
      "ce4ab5a9f59b4bdba19f892b6bbb0019",
      "831e0a31b195466ea74d6a1a786748d8",
      "7c071f96e2504587b1776f3f28e6ecf4",
      "52ec235fd69a48edb78efce7e9e1a7c2",
      "ae660fead5cf44809daf6dd6e23309a6",
      "b2581976088d41489127ae9ccb2d3d27",
      "37de0f7247834e9c989e4851340aab70",
      "d9663aff606f46adb940c127139f7cc2",
      "5172a2092aeb48c68b356ec8133dbba9",
      "d368f6c67156405b9eb017b3ea752a5e",
      "2318c8d453c04a62b02429c9e88a9146",
      "de4ad8e0b47141e490f08eb1024bb29b",
      "856634d4f04b47a5a5ddffa3071e970c",
      "7055d5970d3642238cadacb5a4076b60",
      "6d3375c49b464c32b2e3df83df4445f5",
      "f8ee6c491d854d2fb1a370c6ca931ca0",
      "94cc0532fa4548299fdfc4f08ca7f523",
      "6723572fdf3c4e2eaf7f2aefb31f08ac",
      "f5679b124efc4e9dae0f7af4d8248137",
      "b195934580bd45eeb7002155e079ecd5",
      "b7d55c0067a8443cbc9eaaaa7699e200",
      "3dca88cb6c9f4825b2f152c4a9cd5b2d",
      "a8927ccd098740ee8ed437bab2d6d9fc",
      "3e59b5e32cc641c3b053f438234af5f7",
      "d993255f5f7e406f950d8911d8e9f5c7",
      "bd041eb4d2e34552b22803d877569802",
      "21db62e9f92f45a48fcc7f4fdc5d5d0a",
      "9702e1c7d7aa43adb5c2b130193997fb",
      "d72394b5508e430d927d1f8edb78f651",
      "95e8e45cd1f0465986f3cf4c2fb6513d",
      "2823de50c719467fb24030965a39cecc",
      "2a034b3a373a49daad996b03d94681e0",
      "63ea8aa9d3ad4a2193bc913099839115",
      "d73b9365a77d4db69b0e948e00e1b1ad",
      "bf4dc9d040d84c5f83f3498ec282af30",
      "7be66d277bd349de8caf89ba594f20ed",
      "dbd22e6c17e44f6c941556fc364e56b8",
      "dc20b3950e2340069b41276ab252d9b7",
      "fcdfec872e014fdcba535570f4ffef9f",
      "2d7f78c9877d416d988a9416eb927fb2",
      "a688ad0c8b5e46d98f10ce4cea48cbc6",
      "713b0af5663f4e409289e11453a677ba",
      "f15b59f1514042999096b206328f861c",
      "2098d6b0519d42fdbf457fd7ce506f85",
      "075126171ea244eb86d218936fc63748",
      "23b58b9a4c754d1c9a1e0ea4344a6547",
      "b5396220dbd64e128df066efa5f0b4dd",
      "d7e6c94a93484c32a3e8d7cd859e4ec2",
      "01c19887ccb945a288f70e3fc9768226",
      "081e24b34a374818a01a11e62a8aa102",
      "5665027549cf431289a574b341d51365",
      "04d440a9940043baa3fbd1756df4779d",
      "4f093de0d736450fad6611d47eab58f6",
      "5ea57849971e45e69acf5c9081bef4fb",
      "8aa653eda84d43548521481e2c7504cd",
      "8dd74f19b5bb455fb24c309ff7b759a0",
      "329d5e159d2b414a8d6f3698a8d2ef8d",
      "c946929931bd4ef5b99435f143c54c19",
      "6e577ec9c9034ef1a24dea698160f2c7",
      "02218a826d8645c59783a860450e8e4d",
      "3ef6a183b0c445ee93bb4f027069accc",
      "e9cdbb0524cd4888bcb4358bc90c795f",
      "fabd831c57ae4285a19d559e23ef8b85",
      "6cb62e942e6b465e82ec22867a206090",
      "87f18ea9afd241de8fdadf60575b1377",
      "d5fe2ccc64f1409d836a2eafcb6374a2",
      "20f03880a4b04f4ea8833d3b7dc7a0a6",
      "452119e3bbb6422e952e378b2785747d"
     ]
    },
    "id": "1N1vrJnOxMMI",
    "outputId": "ae334bf7-42f5-4b09-e152-20849979bfdb"
   },
   "outputs": [
    {
     "name": "stderr",
     "output_type": "stream",
     "text": [
      "/usr/local/lib/python3.11/dist-packages/huggingface_hub/utils/_auth.py:94: UserWarning: \n",
      "The secret `HF_TOKEN` does not exist in your Colab secrets.\n",
      "To authenticate with the Hugging Face Hub, create a token in your settings tab (https://huggingface.co/settings/tokens), set it as secret in your Google Colab and restart your session.\n",
      "You will be able to reuse this secret in all of your notebooks.\n",
      "Please note that authentication is recommended but still optional to access public models or datasets.\n",
      "  warnings.warn(\n"
     ]
    },
    {
     "data": {
      "application/vnd.jupyter.widget-view+json": {
       "model_id": "586a8dc5e3d346d9a0622dcc980c099f",
       "version_major": 2,
       "version_minor": 0
      },
      "text/plain": [
       "adapter_config.json:   0%|          | 0.00/551 [00:00<?, ?B/s]"
      ]
     },
     "metadata": {},
     "output_type": "display_data"
    },
    {
     "data": {
      "application/vnd.jupyter.widget-view+json": {
       "model_id": "7c071f96e2504587b1776f3f28e6ecf4",
       "version_major": 2,
       "version_minor": 0
      },
      "text/plain": [
       "config.json:   0%|          | 0.00/1.21k [00:00<?, ?B/s]"
      ]
     },
     "metadata": {},
     "output_type": "display_data"
    },
    {
     "data": {
      "application/vnd.jupyter.widget-view+json": {
       "model_id": "7055d5970d3642238cadacb5a4076b60",
       "version_major": 2,
       "version_minor": 0
      },
      "text/plain": [
       "model.safetensors:   0%|          | 0.00/892M [00:00<?, ?B/s]"
      ]
     },
     "metadata": {},
     "output_type": "display_data"
    },
    {
     "data": {
      "application/vnd.jupyter.widget-view+json": {
       "model_id": "d993255f5f7e406f950d8911d8e9f5c7",
       "version_major": 2,
       "version_minor": 0
      },
      "text/plain": [
       "generation_config.json:   0%|          | 0.00/147 [00:00<?, ?B/s]"
      ]
     },
     "metadata": {},
     "output_type": "display_data"
    },
    {
     "data": {
      "application/vnd.jupyter.widget-view+json": {
       "model_id": "7be66d277bd349de8caf89ba594f20ed",
       "version_major": 2,
       "version_minor": 0
      },
      "text/plain": [
       "adapter_model.safetensors:   0%|          | 0.00/3.56M [00:00<?, ?B/s]"
      ]
     },
     "metadata": {},
     "output_type": "display_data"
    },
    {
     "data": {
      "application/vnd.jupyter.widget-view+json": {
       "model_id": "b5396220dbd64e128df066efa5f0b4dd",
       "version_major": 2,
       "version_minor": 0
      },
      "text/plain": [
       "spiece.model:   0%|          | 0.00/792k [00:00<?, ?B/s]"
      ]
     },
     "metadata": {},
     "output_type": "display_data"
    },
    {
     "data": {
      "application/vnd.jupyter.widget-view+json": {
       "model_id": "c946929931bd4ef5b99435f143c54c19",
       "version_major": 2,
       "version_minor": 0
      },
      "text/plain": [
       "tokenizer.json:   0%|          | 0.00/1.39M [00:00<?, ?B/s]"
      ]
     },
     "metadata": {},
     "output_type": "display_data"
    },
    {
     "name": "stderr",
     "output_type": "stream",
     "text": [
      "Device set to use cuda:0\n"
     ]
    }
   ],
   "source": [
    "device = 0 if torch.cuda.is_available() else -1\n",
    "sum2 = pipeline(\"summarization\", model=\"\", device=device) #Use summarizer trained on MUSIA stories"
   ]
  },
  {
   "cell_type": "markdown",
   "metadata": {
    "id": "OrnvpPhFOire"
   },
   "source": [
    "## Load Stable Diffusion XL Model\n",
    "\n",
    "Initializes the Stable Diffusion XL model using the `diffusers` library. This model will generate photorealistic images from summary prompts. The attention slicing is enabled for efficient memory usage.\n"
   ]
  },
  {
   "cell_type": "code",
   "execution_count": null,
   "metadata": {
    "colab": {
     "base_uri": "https://localhost:8080/",
     "height": 625,
     "referenced_widgets": [
      "f60dd82f326548b2a3b33055e93c1b71",
      "9473ec2c4fac466e9c7b87da58d62abb",
      "109aeb7866b34fdcafc565182d3d58f6",
      "a0375abef35046ec9461c3c027b76a25",
      "2f21d9692bfb40b5bc31cfe880e75c80",
      "b94540b3a721485bbe8b2b19e6ba33fe",
      "66a65bcba77c46fabedd71ebe3ab6356",
      "afcddc6be25e499893e2c4b0c99c42ca",
      "df205cdcaa7944bbbe4e309dad46103e",
      "c86cb97b835a469e90262b659803274c",
      "fdb49d2956344d0bb98fd95a58caf355",
      "dcf09cef7c71434692c0496ee95a8f20",
      "39f92d6ad09644f0a644c7d23a62db5d",
      "a0c32204ce524d289c8d58f22cda6e4c",
      "54355146e8b04525ab4f30c2febb0715",
      "15a8eeee09a645aa90994026756edc5e",
      "561448ff83eb4eae9652e77f7f4ac477",
      "99e2c78fb23347b480ca6143cebf48d2",
      "12e5cabb86f549059ff1a2982f0da1e4",
      "1819969eabc74a2a947c5fd33d3d66de",
      "6709d7a3499e443ebebc639b2c1f416a",
      "ec1b98cd47a74e5aa0d41d1e69bca891",
      "20880005e55f47489de1766eff0a92b5",
      "01cd72d9c9a242a59f9f4b0ad6a9a485",
      "e1f35d0b3f7c413eb73283185f335899",
      "9895587530504c32b1b0cab5dd83e0cb",
      "d52a51e54aef4be39d254b8a3eaf34fa",
      "9baff32450e343f6b97b5a4c2caf0b98",
      "d169aad66c8943f296b770eb94a35a16",
      "28918aa909bf48fc8ba760f8dbf9dde9",
      "6ad31e35094b41119d214e27e4c0bfe4",
      "7004489c23bf4c158148012a201afe5d",
      "a1309e996a864427be0d8aa7ea992b10",
      "9755d57fcb064d558161903267198e46",
      "0092097668744c7d99572b0bb94a5124",
      "900826dc33f64bd3b65d3e8f5c80d753",
      "70eb32bdd7bb472eb2eb56b7f274ec41",
      "8695c0cef17b42169a72026e32894203",
      "8c83903378b64c0091ab4b9697cabf27",
      "bb816d6d6cd1420486752ceb0ebc4a8c",
      "d0dcfa7f5e424f76aa614f63f7507fc1",
      "e31ff1dd3c2043d181eaa2f6b1fb9efe",
      "128b545e50cb4acd8e1b21df22c7d137",
      "c802a9581f4442738e67f5a396fdadef",
      "6037f729445b447a854f3f4a03258fde",
      "9ceb339109b0419e85e1a556e625a8df",
      "36ad38e94ca24c3bba1861ef02b1163e",
      "1c3c04d273304d75b3552543d7a76af0",
      "ca644256afee4c4aa4e72ffd2418d239",
      "4f076c67d9b54fe3881c2d4d3182b545",
      "1b9ccfe500f443309211a2182cd19925",
      "a801800e8b784f68a6c1e3aa8cf19884",
      "42de7ee5f7f94228a95fa8a9957139dc",
      "08c4c743c03f47e9b238e812cb384e62",
      "15cfa889ed8c4540b4f61bfa01371e6f",
      "84e0a013f20344eeae26f144ea43299e",
      "1e53f0f8683346f1b5d251f870fa7057",
      "de6fffcffea74fa2847c949daaee4476",
      "643e21fb7e68409580f3dfea127e7ab0",
      "adfed57117eb49809d8f1bbeae510cfd",
      "9bc3dc7fadae4d488c0d02bf3f378b8b",
      "a6134e699ad947ee93232a13adeb0195",
      "0c7d5d1eed6149ec865393fccaf58505",
      "e0caab1f9a2143549c9577dd29c8759e",
      "989045e46f89455c8849a292c1c7e4d1",
      "d00506006ba448aeae960198071e8729",
      "d2d2fd31bac446fa8887d93d27913bf1",
      "d2201aa5c9744316946756a1241800af",
      "7d1fe13877324daaafc4e3ae16c1d9cc",
      "7a37c0f02508424184cbf7de76f9ad3b",
      "5223113a5c724369b2129cd8335dd084",
      "b534924c697a4f8187a4ae551ac9832f",
      "cb09cd89f501490aa7960862d5697a92",
      "f81c81bed43d4a658355fc795bcc9e1e",
      "f378f96ba0594a4db8850185c677e9b4",
      "316c205c5bac4df194b343db1b776edd",
      "3e85b60e1bbc4375bab5274303b99fe5",
      "d78e0dd6fa9b42f2810439974f3be8f8",
      "c35ea51241bb432898518ebdaf03a87b",
      "bb495f81b4094610a300499fbbd5bdb6",
      "bf6a320e4bf74584a03c0fd4aa6e9b8f",
      "91b605ae2f3f417ca6a2ceb52f227e4a",
      "8c2f430435ed4051b6a5c3d279869def",
      "deecba4a194c4c6ead1d0604c0584693",
      "13bdffae74a74f4781764cd8161e5d3b",
      "ddc44d5608f44d6a8915694f6749b2d6",
      "1a8b71639dba4c5ea9e7fb648bc7b414",
      "91a02d2f68524e2aaf3f990c60dc43f8",
      "84206ba567d342289d5bdbd5587f2cd0",
      "f89b744c425f4b9685a79ecc609e7ec5",
      "545e85547e3f4791bec0a3ca9666efd7",
      "a07c5877487c4e76b1d068e024751a52",
      "eb0af2cf1a4c4891af6ccbcf0b1562eb",
      "ab6004024cec43759bd5ef1e49a4a99a",
      "7060d5b1819048bbbb7542ff999cb94b",
      "3ed38b561f824baba3be65ff70c9cdb6",
      "89bd0f990a204626b2fcea03694a3240",
      "fe080da1c19d4412a1430700b260fc2a",
      "fb1bda9304944f0e9b4e28d8623219d0",
      "ec5872a8cfbc4ac2890721d28fad8b8f",
      "eeba07c00dde4dab8a91a1cabbfe30d5",
      "8360a10f073c40d9867abcea47e3cbc1",
      "41c50d2b7a2447f588b64f19e51abc29",
      "ec41794f841a4ae4a00d47c11d07e1d1",
      "f2d4d23a6afe4e0687e11af895b04358",
      "6ba1184a0dfd4d09ad4471126fdc7d1b",
      "f9a9cc38c8c3428fae31baf3b8ef0e44",
      "cd6667553c8e47f89c373491666a3460",
      "cdbc733e5186453ab5269a07064eced8",
      "e78770e83cdb4edeab2f51385e247730",
      "807fd490475e44b6814fc7b85da7d193",
      "45f77952d196456db06cfb691d7c80f7",
      "6b3219a147494a879e1e2ba6391116ac",
      "2990962053be4b0d9a64f0c9e9b1eaab",
      "d15c6abf0a9e4127a73cb2ff7e636c67",
      "6bc5f3f2638e48e5ac06e0e20cb4141b",
      "7416805eaa0c43f4b8d1dfb45c6364a1",
      "974f6bca7f4b47ccbccaa7bc5c4e1a57",
      "16d6eaa03d9c4e49ae84434d7d2b9c86",
      "92c29a480325479086a21003aa83b4dc",
      "1ba56f00f0e14e4b8b40f7d5e5d1b262",
      "71ffd5bfdb234e3ebe296de57766df3b",
      "408363e368f64bb9aa23714233caafe5",
      "f4cc171bb97748398caf5f3e42798d4e",
      "ce6cabd159654b0787ed0e432f714ddf",
      "6ac446224f87432189c4e5778a67c1e8",
      "f570db184fcf4ba890dce59fed22dc02",
      "4cbe828c56904344b9eb81ce55d4f783",
      "a26fbb9ca6704b1fbef25ddcb94a5dd2",
      "a388f6859a1d4bdda0bc4122e72aa202",
      "1fd451f856ee443ab517a0ec0815a833",
      "4aa857b8da8e4359b5ad94523cbc38c5",
      "657c6267db6244088c9e012cabf0a006",
      "60b3a4f72ef14b1ca1835d302c5b3b0b",
      "9a4478a2f4cb46a7bf5ffb854578ad5c",
      "ab5733e9b13642db8df03ae5b8867a7c",
      "a435e653f8d34f58b25f04a832f18e69",
      "072a49e391b2456b8e755bd4d974faa2",
      "a0684d096e5e43f09c7ea91a51900df0",
      "47ca6ed21fe9406e900d33f0f322bf5e",
      "1ef3b90871f14522a63ef69b9b78298b",
      "76e31c75fc3b40cc911298dce6ba36ea",
      "b17c4ffc8ae84c8898a0e99286b00926",
      "1b4ff2eba6e642c2b14bc5126bbce07d",
      "dc3961dad04441ce8e70ae536aaaa75e",
      "8149d7481e2146929037f99c14d1777e",
      "178a71db3f8a4b1891766558e238dd09",
      "9e7bf5b070b94247b4deba02f2927ac9",
      "fad235a51661434e990573a938b3fcbe",
      "57493533f76a483692acf6d57eba5d1e",
      "4245fabca89e4b3cac53ad1b93deb99d",
      "d645e8050f5445b69204ac2eaa6ab92f",
      "3e0cd30f8cf4434895d97bc643d35b29",
      "7579be8cf4e54979ad1ea17882ab672f",
      "c6908f7d98b94cafb6402016f9c27dd7",
      "6f9b7ef0173144afa2d91b64e8da9e0e",
      "fb61dcc5a7534ca3a452d412fa0e402d",
      "cce74d040fa14b89a947271ba5094e93",
      "0aaee92aff694e5aa4b32457446168e4",
      "d674d057cbe14ed881e3efd717a3ccda",
      "28f3e5d295304d6caf795b326c45d308",
      "c02385d6f311426dbe62a8cd94061829",
      "9adfff1d9b2a452c97fa7987644bda8b",
      "3e9fd1dac5a54f9a8a2062a1059465b2",
      "092bfefea16d406eafd48fc8e1537bdf",
      "0898d23b453e4a17b62e55cadaaa4e43",
      "d5779b58a5c64732826a3cd161566712",
      "2f59bffee4f844d491cc734a5c9b2d7c",
      "b7dfee934d05401b9d72aa296bd08763",
      "33d7a67a3f8f430583a9db4712482d5c",
      "74bdca3149714f3d8c75361cd3297458",
      "9880115df94b4728997525636498c189",
      "81c485dacbd041c39d61778911d87acd",
      "98881476c94641aa81772f3e125b5ba3",
      "03988615dbbd473699e535fecd11f589",
      "f1e746bc65f64695b4c668ec0d2c1dbf",
      "e6e87acdc11a4aad803e7779831bef57",
      "a8e7c76bfa7045349f7580ef4019ceed",
      "37c2248b12224d33906ad8ef74432f3d",
      "579b158a300c4b96b961cff39db68985",
      "bd940a5ac47b469ca06067ac88a04195",
      "cecc4cc90e2d4513aadd03652911a71d",
      "707ed34bec8c4d3baf2d347f7571f4c8",
      "6e3698371e434fa1a8b9edc96b58a2c9",
      "fb185f6e304d42d0a6770d2f32fda871",
      "4bdf101a876241da96f1d447c345d388",
      "f59ac7b3fc434a039d1eb84a968341f2",
      "5f25269f16cb43c7896d23090b86c0a4",
      "6f3ada8a897d435da85f7cc9600134bd",
      "3c26998c93884c50bf205aa4d13f3d02",
      "0d49eac0450641348802eea9551b8c9a",
      "c293fcc1be01424c9dc8b32702aeabf1",
      "b5c06314a5db424095242931e2a0b984",
      "51dbcb77f7b54bbe84dbf999e69855ae",
      "d8810debe3fd461e989c3ebf861d3424",
      "067247c00a4f49d495a8f7d48de85b29",
      "3b16f57133394d7b8b72c3ec1454363e",
      "d57d1012e7d84aa4b8ab9544f7baf838",
      "6665fba9280042b99b15117d2e919015",
      "0098a8f2407249208eacc818abaf2104",
      "40961526848948aca1fc8dd7d139e105",
      "708ef809a9c44735b9032f320d6db688",
      "09de5175c5c04140a823cb2f5cb57318",
      "a6cf59a4619646bdb8a690bf4b6e91cf",
      "0958401f22ed414d9e64438578c30f7d",
      "3b72ebcb734c45ae839350c9b597cc7a",
      "7cfd3826bf714b988194c1915c3066ea",
      "adfe612cabd54a2eb8464f83c6e148ca",
      "deea72744f854d0ab441a7b9d8a7c9f4"
     ]
    },
    "id": "A_gqV-1bxRjy",
    "outputId": "b7ed02c0-910a-4028-b954-9c1316ecbc43"
   },
   "outputs": [
    {
     "data": {
      "application/vnd.jupyter.widget-view+json": {
       "model_id": "f60dd82f326548b2a3b33055e93c1b71",
       "version_major": 2,
       "version_minor": 0
      },
      "text/plain": [
       "model_index.json:   0%|          | 0.00/609 [00:00<?, ?B/s]"
      ]
     },
     "metadata": {},
     "output_type": "display_data"
    },
    {
     "data": {
      "application/vnd.jupyter.widget-view+json": {
       "model_id": "dcf09cef7c71434692c0496ee95a8f20",
       "version_major": 2,
       "version_minor": 0
      },
      "text/plain": [
       "Fetching 19 files:   0%|          | 0/19 [00:00<?, ?it/s]"
      ]
     },
     "metadata": {},
     "output_type": "display_data"
    },
    {
     "data": {
      "application/vnd.jupyter.widget-view+json": {
       "model_id": "20880005e55f47489de1766eff0a92b5",
       "version_major": 2,
       "version_minor": 0
      },
      "text/plain": [
       "config.json:   0%|          | 0.00/565 [00:00<?, ?B/s]"
      ]
     },
     "metadata": {},
     "output_type": "display_data"
    },
    {
     "data": {
      "application/vnd.jupyter.widget-view+json": {
       "model_id": "9755d57fcb064d558161903267198e46",
       "version_major": 2,
       "version_minor": 0
      },
      "text/plain": [
       "text_encoder_2/model.safetensors:   0%|          | 0.00/2.78G [00:00<?, ?B/s]"
      ]
     },
     "metadata": {},
     "output_type": "display_data"
    },
    {
     "data": {
      "application/vnd.jupyter.widget-view+json": {
       "model_id": "6037f729445b447a854f3f4a03258fde",
       "version_major": 2,
       "version_minor": 0
      },
      "text/plain": [
       "text_encoder/model.safetensors:   0%|          | 0.00/492M [00:00<?, ?B/s]"
      ]
     },
     "metadata": {},
     "output_type": "display_data"
    },
    {
     "data": {
      "application/vnd.jupyter.widget-view+json": {
       "model_id": "84e0a013f20344eeae26f144ea43299e",
       "version_major": 2,
       "version_minor": 0
      },
      "text/plain": [
       "scheduler_config.json:   0%|          | 0.00/479 [00:00<?, ?B/s]"
      ]
     },
     "metadata": {},
     "output_type": "display_data"
    },
    {
     "data": {
      "application/vnd.jupyter.widget-view+json": {
       "model_id": "d2d2fd31bac446fa8887d93d27913bf1",
       "version_major": 2,
       "version_minor": 0
      },
      "text/plain": [
       "config.json:   0%|          | 0.00/575 [00:00<?, ?B/s]"
      ]
     },
     "metadata": {},
     "output_type": "display_data"
    },
    {
     "data": {
      "application/vnd.jupyter.widget-view+json": {
       "model_id": "d78e0dd6fa9b42f2810439974f3be8f8",
       "version_major": 2,
       "version_minor": 0
      },
      "text/plain": [
       "merges.txt: 0.00B [00:00, ?B/s]"
      ]
     },
     "metadata": {},
     "output_type": "display_data"
    },
    {
     "data": {
      "application/vnd.jupyter.widget-view+json": {
       "model_id": "84206ba567d342289d5bdbd5587f2cd0",
       "version_major": 2,
       "version_minor": 0
      },
      "text/plain": [
       "special_tokens_map.json:   0%|          | 0.00/472 [00:00<?, ?B/s]"
      ]
     },
     "metadata": {},
     "output_type": "display_data"
    },
    {
     "data": {
      "application/vnd.jupyter.widget-view+json": {
       "model_id": "ec5872a8cfbc4ac2890721d28fad8b8f",
       "version_major": 2,
       "version_minor": 0
      },
      "text/plain": [
       "tokenizer_config.json:   0%|          | 0.00/737 [00:00<?, ?B/s]"
      ]
     },
     "metadata": {},
     "output_type": "display_data"
    },
    {
     "data": {
      "application/vnd.jupyter.widget-view+json": {
       "model_id": "807fd490475e44b6814fc7b85da7d193",
       "version_major": 2,
       "version_minor": 0
      },
      "text/plain": [
       "vocab.json: 0.00B [00:00, ?B/s]"
      ]
     },
     "metadata": {},
     "output_type": "display_data"
    },
    {
     "data": {
      "application/vnd.jupyter.widget-view+json": {
       "model_id": "71ffd5bfdb234e3ebe296de57766df3b",
       "version_major": 2,
       "version_minor": 0
      },
      "text/plain": [
       "special_tokens_map.json:   0%|          | 0.00/460 [00:00<?, ?B/s]"
      ]
     },
     "metadata": {},
     "output_type": "display_data"
    },
    {
     "data": {
      "application/vnd.jupyter.widget-view+json": {
       "model_id": "657c6267db6244088c9e012cabf0a006",
       "version_major": 2,
       "version_minor": 0
      },
      "text/plain": [
       "tokenizer_config.json:   0%|          | 0.00/725 [00:00<?, ?B/s]"
      ]
     },
     "metadata": {},
     "output_type": "display_data"
    },
    {
     "data": {
      "application/vnd.jupyter.widget-view+json": {
       "model_id": "1b4ff2eba6e642c2b14bc5126bbce07d",
       "version_major": 2,
       "version_minor": 0
      },
      "text/plain": [
       "config.json: 0.00B [00:00, ?B/s]"
      ]
     },
     "metadata": {},
     "output_type": "display_data"
    },
    {
     "data": {
      "application/vnd.jupyter.widget-view+json": {
       "model_id": "c6908f7d98b94cafb6402016f9c27dd7",
       "version_major": 2,
       "version_minor": 0
      },
      "text/plain": [
       "unet/diffusion_pytorch_model.safetensors:   0%|          | 0.00/10.3G [00:00<?, ?B/s]"
      ]
     },
     "metadata": {},
     "output_type": "display_data"
    },
    {
     "data": {
      "application/vnd.jupyter.widget-view+json": {
       "model_id": "0898d23b453e4a17b62e55cadaaa4e43",
       "version_major": 2,
       "version_minor": 0
      },
      "text/plain": [
       "config.json:   0%|          | 0.00/642 [00:00<?, ?B/s]"
      ]
     },
     "metadata": {},
     "output_type": "display_data"
    },
    {
     "data": {
      "application/vnd.jupyter.widget-view+json": {
       "model_id": "e6e87acdc11a4aad803e7779831bef57",
       "version_major": 2,
       "version_minor": 0
      },
      "text/plain": [
       "vae/diffusion_pytorch_model.safetensors:   0%|          | 0.00/335M [00:00<?, ?B/s]"
      ]
     },
     "metadata": {},
     "output_type": "display_data"
    },
    {
     "data": {
      "application/vnd.jupyter.widget-view+json": {
       "model_id": "5f25269f16cb43c7896d23090b86c0a4",
       "version_major": 2,
       "version_minor": 0
      },
      "text/plain": [
       "vae_1_0/diffusion_pytorch_model.safetens(…):   0%|          | 0.00/335M [00:00<?, ?B/s]"
      ]
     },
     "metadata": {},
     "output_type": "display_data"
    },
    {
     "data": {
      "application/vnd.jupyter.widget-view+json": {
       "model_id": "6665fba9280042b99b15117d2e919015",
       "version_major": 2,
       "version_minor": 0
      },
      "text/plain": [
       "Loading pipeline components...:   0%|          | 0/7 [00:00<?, ?it/s]"
      ]
     },
     "metadata": {},
     "output_type": "display_data"
    }
   ],
   "source": [
    "pipe = DiffusionPipeline.from_pretrained(\n",
    "    \"stabilityai/stable-diffusion-xl-base-1.0\",\n",
    "    torch_dtype=torch.float16,\n",
    "    use_safetensors=True\n",
    ").to(\"cuda\" if torch.cuda.is_available() else \"cpu\")\n",
    "pipe.enable_attention_slicing()"
   ]
  },
  {
   "cell_type": "markdown",
   "metadata": {
    "id": "pi5q2K6qOqGg"
   },
   "source": [
    "## Load Story-to-Frame Count Mapping\n",
    "\n",
    "Loads the mapping file that contains the number of images to be generated for each story. This mapping ensures that output image counts match the requirements of the MUSIA shared task.\n"
   ]
  },
  {
   "cell_type": "code",
   "execution_count": null,
   "metadata": {
    "id": "0REMsE9BxNuo"
   },
   "outputs": [],
   "source": [
    "with open(\"/content/drive/MyDrive/MUSIA-2025/EN_story_image_counts.json\", \"r\") as f:\n",
    "    story_frame_map = json.load(f)"
   ]
  },
  {
   "cell_type": "markdown",
   "metadata": {
    "id": "es5XgaoTPNVl"
   },
   "source": [
    "## Define Story Directory Path\n",
    "\n",
    "Specifies the root directory where all extracted testing story `.txt` files are stored. This path is used to access and read individual stories during the generation loop.\n"
   ]
  },
  {
   "cell_type": "code",
   "execution_count": null,
   "metadata": {
    "id": "0N9dmVnMxP4f"
   },
   "outputs": [],
   "source": [
    "story_root = \"/content/Testing_Stories/English_Testing/Testing_Stories/\""
   ]
  },
  {
   "cell_type": "markdown",
   "metadata": {
    "id": "JcIehv8zPZTi"
   },
   "source": [
    "## Define Fixed Visual Style Prompt\n",
    "\n",
    "Specifies a consistent visual style prompt to be appended to each summary before passing it to the image generation model. This ensures all generated images share a unified and coherent visual traits.\n"
   ]
  },
  {
   "cell_type": "code",
   "execution_count": null,
   "metadata": {
    "id": "gy4YSly0xWik"
   },
   "outputs": [],
   "source": [
    "fixed = \"Cartoon style, warm color palette, soft shading, hand-drawn texture, same characters, consistent clothing and face, wide frame.\"\n",
    "\n",
    "# fixed format : [Style], [Color], [Shading], [Texture], [Character Consistency], [Framing]\n",
    "\n",
    "#Style\n",
    "#Cartoon style, Anime style, Digital painting, 3D render, Watercolor illustration, Oil painting, Comic book style, Fantasy art,\n",
    "#Pixel art, Sketch art, Realistic style, Flat illustration, Low-poly style, Chibi style, Papercut style, Cel-shaded style, Line art style, Ink wash painting\n",
    "\n",
    "#Color\n",
    "#Studio Ghibli colors, Pastel colors, Vibrant colors, Muted tones, Warm color palette, Cool tones, Neon lights, Earth tones, Duotone scheme, Retro color scheme,\n",
    "# Desaturated tones, High contrast colors, Cinematic color grading, Sepia tone, Monochrome palette, Rainbow gradient\n",
    "\n",
    "#Shading\n",
    "#Soft shading, Hard shading, Cel shading, Volumetric lighting, Ambient occlusion, Global illumination, Flat lighting, Soft lighting, Harsh shadows, Backlighting,\n",
    "#Rim lighting, Subsurface scattering, Bounce lighting, Ray-traced lighting\n",
    "\n",
    "#Texture\n",
    "#Hand-drawn texture, Painted texture, Smooth texture, Sketch-like strokes, Grainy texture, Rough brush strokes, Inked outlines, Crayon texture, Chalk texture,\n",
    "# Marker rendering, Pencil sketch texture, Watercolor wash, Canvas texture, Digital airbrush, Etching lines\n",
    "\n",
    "#Character Consistency\n",
    "#same characters, Consistent clothing and face, Repeating character model, Fixed hairstyle and outfit, Identical facial features across frames, Character continuity,\n",
    "#Preserve facial structure, Consistent outfit design, No change in appearance, Character template unchanged, Use same character across all frames, Maintain character identity, Uniform costume across scenes\n",
    "\n",
    "#Framing / Composition –\n",
    "#Wide frame, Close-up, Medium shot, Portrait frame, Landscape frame, Bird’s eye view, Worm’s eye view, Over-the-shoulder view, Centered frame, Rule of thirds composition,\n",
    "# Dynamic camera angle, Symmetrical framing, Diagonal composition, Isometric view, Cinematic framing, Panoramic shot"
   ]
  },
  {
   "cell_type": "markdown",
   "metadata": {
    "id": "OF7uyPLJPteT"
   },
   "source": [
    "## Create Output Directory for Generated Images\n",
    "\n",
    "Creates a directory named `generated_images` (if it does not already exist). All images generated by the Stable Diffusion model will be saved to this folder for later review or submission formatting.\n"
   ]
  },
  {
   "cell_type": "code",
   "execution_count": null,
   "metadata": {
    "id": "6kP-jEn-xY-l"
   },
   "outputs": [],
   "source": [
    "os.makedirs(\"generated_images\", exist_ok=True)"
   ]
  },
  {
   "cell_type": "markdown",
   "metadata": {
    "id": "178_LQcOP4S1"
   },
   "source": [
    "## Generate Images from Summarized Story Segments\n",
    "\n",
    "This block processes the test stories and generates images as follows:\n",
    "\n",
    "* Limits processing to 2 stories for demonstration.\n",
    "* Loads each story from the extracted `.txt` files based on the mapping file.\n",
    "* Splits the story text into `num_frames` chunks, ensuring each chunk corresponds to one image.\n",
    "* Summarizes each chunk using the fine-tuned MUSIA summarizer.\n",
    "* Combines the fixed visual style prompt with the summary to form the final prompt for the diffusion model.\n",
    "* Generates an image for each summarized chunk using Stable Diffusion XL.\n",
    "* Saves each image with a consistent filename format and stores metadata for later use.\n",
    "\n",
    "All images are stored in the `generated_images` directory, and successful generations are logged to the console.\n"
   ]
  },
  {
   "cell_type": "code",
   "execution_count": null,
   "metadata": {
    "colab": {
     "base_uri": "https://localhost:8080/",
     "height": 556,
     "referenced_widgets": [
      "43b94aa6a1284c69a0a6916a578ae2c0",
      "9a7bf30d9863499c9396248f93991c6a",
      "86cf01cc085349388665694166d542df",
      "2595f28bc7c647d1b2a1eace380c6393",
      "61566653d2d9436caa5ffc1f0af698cc",
      "fdda17eacfb04d5f880e15f5aa27b23f",
      "251ee7d8b3a9486db22b226db455c262",
      "a9180298e1114dd6bd3eb55c484c760c",
      "0dbc3a1d7a834f50996c047644224727",
      "0c3ce47b5cbf4c96aa55f4a2e2af1fd7",
      "cd50c1ae421a46eb9d67f7f720a58c91",
      "5d7622b3e022466696114ac444270750",
      "d1b87f5d25af40478dd337ad705b3f46",
      "a4a7f48a19ef4b7f9ebde2f7a14d3077",
      "409a5701b8324d75b6487c44d074a533",
      "0258d58ecdee4d7f8f7cd8d518c8aa34",
      "734f9afc5095416bb4d73ea7c39ddc42",
      "ef06e19e44f64c0a92fd379daf2b6b22",
      "29f0b100c5464643bf424f5ab70d9e5f",
      "03e46885aee44f999697d031de704915",
      "08a5ac4a35ee4c9ba1fd73f55d8d46db",
      "c924af260b0f48989417f5c6bfbdea77",
      "b840cf68c04042c4bc1c106c4ff0f6aa",
      "d35c7e9c3ca94b82ac05cf18c1249e4a",
      "f192db95028e45f7b853dd46e6cb4334",
      "0ab8ca2c06d348409681ef691168c115",
      "59ad22020ab642828518027f1b3cd338",
      "d312af1aced1408db05ed48a267f7bf8",
      "bbd0319e61a44aa982bf79591dea8849",
      "5a85d2ac98ee4dc8bf87a8fd82d8018a",
      "485340f969cb4a4686d841234fbc7ed8",
      "63283cc57455484890d47de1033e0ed1",
      "6aa603df19bc47728dfd4d3878e8f8c7",
      "349c0b89b6054cdb9f8b94280eafdcbf",
      "1de59cc44b9d49a88b8e67315f7cdf05",
      "e3bd318510b74d9faff3f1b01bca4b09",
      "29c93268ada04fe5b3c629a206f526d4",
      "cd7aa2406610416094c91b598f77d1e0",
      "7f7c33aa8a104a6f9a426a7bef354b69",
      "a3c609e3cb7847d285f587ea3ab31802",
      "847d36a834e44076a3bdd5ba771951bf",
      "8f617749c6474f09bd7c50fe2b01a409",
      "0f4277d2bd1b4d18b7e34690c536b4b4",
      "d004c962e1e548c1a486dd04d8dd6de4",
      "c459d36262d44d7ba8c3fcd592897d72",
      "3d1127c2901a468990041b1b555352e3",
      "67295dbd726846bd92ab1445beaf718a",
      "60202b81370b406682071b9542b02bce",
      "7c37397fd0424957a81c0883a3d9f081",
      "c64523d934d349f8bfe6c9e92ee4a362",
      "8d69e1fdaf654a27840970fbdd591296",
      "b09be00317eb4a7c9ae61804c4c81942",
      "2e6b5616efd14ebba9c99c207768a6bb",
      "05ba41cb892c4ea38863f26f842a5151",
      "f39ad7c28ab642e1a21d2fd74c4e2b3c",
      "6b6590f648fe467d8270ba9219cb0ca6",
      "54fb5cdd3c734f49ac065441459bee75",
      "a759851ff213444f9e86998de8a151d8",
      "bba93eb3edb84693b62f852cfbf82eaa",
      "dee4a2c1fdee4aa8b172e14509eee745",
      "db5bba0fadee4aacbbd87dd0c548703f",
      "f6113d3414754e1481f155fbea00ddf1",
      "6a0fb836104f473e9ca6b429b4703ba2",
      "16b0ac4927c7425983cc5ce1a06526a4",
      "beb8e79b71504012aaf4376da2d927b9",
      "ab4c5dd9eae3435e86751881c9eea682",
      "d9bf71333f6442c5832fef29ad2cdfc2",
      "111ccc638c28434b8477afc1060b9c86",
      "cd45b886ec404b52a1ca9f222f0b18ee",
      "a378234ad39741bda5a906b368ccfc2a",
      "365fb8466e324e3aa76a067598e04a31",
      "dc1e255c8471455f824aa362c5bc038a",
      "f7860026815e4367aa58e106c9b19bad",
      "c04b7e8c6eb045ebad36a85db217ecde",
      "8edb5aac666d452c9fd713c6c52d744d",
      "762536fec05f4790828b3c4cd4e97f29",
      "410b0c7a53d24e1da9dbd53fb0a0486c"
     ]
    },
    "id": "iqoKdmm8xbLK",
    "outputId": "c00821c7-0fd7-4994-cfe0-4af2bb1aa32b"
   },
   "outputs": [
    {
     "name": "stderr",
     "output_type": "stream",
     "text": [
      "Both `max_new_tokens` (=256) and `max_length`(=50) seem to have been set. `max_new_tokens` will take precedence. Please refer to the documentation for more information. (https://huggingface.co/docs/transformers/main/en/main_classes/text_generation)\n",
      "The following part of your input was truncated because CLIP can only handle sequences up to 77 tokens: ['and a tiger in the darkness awww a picture of a man in his dark suit atop a tree in the middle of the night']\n",
      "The following part of your input was truncated because CLIP can only handle sequences up to 77 tokens: ['and a tiger in the darkness awww a picture of a man in his dark suit atop a tree in the middle of the night']\n"
     ]
    },
    {
     "data": {
      "application/vnd.jupyter.widget-view+json": {
       "model_id": "43b94aa6a1284c69a0a6916a578ae2c0",
       "version_major": 2,
       "version_minor": 0
      },
      "text/plain": [
       "  0%|          | 0/50 [00:00<?, ?it/s]"
      ]
     },
     "metadata": {},
     "output_type": "display_data"
    },
    {
     "name": "stderr",
     "output_type": "stream",
     "text": [
      "Both `max_new_tokens` (=256) and `max_length`(=50) seem to have been set. `max_new_tokens` will take precedence. Please refer to the documentation for more information. (https://huggingface.co/docs/transformers/main/en/main_classes/text_generation)\n"
     ]
    },
    {
     "name": "stdout",
     "output_type": "stream",
     "text": [
      "[✓] Generated: eng_story_0006_1.png\n"
     ]
    },
    {
     "data": {
      "application/vnd.jupyter.widget-view+json": {
       "model_id": "5d7622b3e022466696114ac444270750",
       "version_major": 2,
       "version_minor": 0
      },
      "text/plain": [
       "  0%|          | 0/50 [00:00<?, ?it/s]"
      ]
     },
     "metadata": {},
     "output_type": "display_data"
    },
    {
     "name": "stderr",
     "output_type": "stream",
     "text": [
      "Both `max_new_tokens` (=256) and `max_length`(=50) seem to have been set. `max_new_tokens` will take precedence. Please refer to the documentation for more information. (https://huggingface.co/docs/transformers/main/en/main_classes/text_generation)\n"
     ]
    },
    {
     "name": "stdout",
     "output_type": "stream",
     "text": [
      "[✓] Generated: eng_story_0006_2.png\n"
     ]
    },
    {
     "data": {
      "application/vnd.jupyter.widget-view+json": {
       "model_id": "b840cf68c04042c4bc1c106c4ff0f6aa",
       "version_major": 2,
       "version_minor": 0
      },
      "text/plain": [
       "  0%|          | 0/50 [00:00<?, ?it/s]"
      ]
     },
     "metadata": {},
     "output_type": "display_data"
    },
    {
     "name": "stderr",
     "output_type": "stream",
     "text": [
      "Both `max_new_tokens` (=256) and `max_length`(=50) seem to have been set. `max_new_tokens` will take precedence. Please refer to the documentation for more information. (https://huggingface.co/docs/transformers/main/en/main_classes/text_generation)\n"
     ]
    },
    {
     "name": "stdout",
     "output_type": "stream",
     "text": [
      "[✓] Generated: eng_story_0006_3.png\n"
     ]
    },
    {
     "data": {
      "application/vnd.jupyter.widget-view+json": {
       "model_id": "349c0b89b6054cdb9f8b94280eafdcbf",
       "version_major": 2,
       "version_minor": 0
      },
      "text/plain": [
       "  0%|          | 0/50 [00:00<?, ?it/s]"
      ]
     },
     "metadata": {},
     "output_type": "display_data"
    },
    {
     "name": "stderr",
     "output_type": "stream",
     "text": [
      "You seem to be using the pipelines sequentially on GPU. In order to maximize efficiency please use a dataset\n",
      "Both `max_new_tokens` (=256) and `max_length`(=50) seem to have been set. `max_new_tokens` will take precedence. Please refer to the documentation for more information. (https://huggingface.co/docs/transformers/main/en/main_classes/text_generation)\n"
     ]
    },
    {
     "name": "stdout",
     "output_type": "stream",
     "text": [
      "[✓] Generated: eng_story_0006_4.png\n"
     ]
    },
    {
     "data": {
      "application/vnd.jupyter.widget-view+json": {
       "model_id": "c459d36262d44d7ba8c3fcd592897d72",
       "version_major": 2,
       "version_minor": 0
      },
      "text/plain": [
       "  0%|          | 0/50 [00:00<?, ?it/s]"
      ]
     },
     "metadata": {},
     "output_type": "display_data"
    },
    {
     "name": "stderr",
     "output_type": "stream",
     "text": [
      "Both `max_new_tokens` (=256) and `max_length`(=50) seem to have been set. `max_new_tokens` will take precedence. Please refer to the documentation for more information. (https://huggingface.co/docs/transformers/main/en/main_classes/text_generation)\n"
     ]
    },
    {
     "name": "stdout",
     "output_type": "stream",
     "text": [
      "[✓] Generated: eng_story_0011_1.png\n"
     ]
    },
    {
     "data": {
      "application/vnd.jupyter.widget-view+json": {
       "model_id": "6b6590f648fe467d8270ba9219cb0ca6",
       "version_major": 2,
       "version_minor": 0
      },
      "text/plain": [
       "  0%|          | 0/50 [00:00<?, ?it/s]"
      ]
     },
     "metadata": {},
     "output_type": "display_data"
    },
    {
     "name": "stderr",
     "output_type": "stream",
     "text": [
      "Both `max_new_tokens` (=256) and `max_length`(=50) seem to have been set. `max_new_tokens` will take precedence. Please refer to the documentation for more information. (https://huggingface.co/docs/transformers/main/en/main_classes/text_generation)\n"
     ]
    },
    {
     "name": "stdout",
     "output_type": "stream",
     "text": [
      "[✓] Generated: eng_story_0011_2.png\n"
     ]
    },
    {
     "data": {
      "application/vnd.jupyter.widget-view+json": {
       "model_id": "d9bf71333f6442c5832fef29ad2cdfc2",
       "version_major": 2,
       "version_minor": 0
      },
      "text/plain": [
       "  0%|          | 0/50 [00:00<?, ?it/s]"
      ]
     },
     "metadata": {},
     "output_type": "display_data"
    },
    {
     "name": "stdout",
     "output_type": "stream",
     "text": [
      "[✓] Generated: eng_story_0011_3.png\n"
     ]
    }
   ],
   "source": [
    "final_prompts = []\n",
    "\n",
    "# === Limit to 2 stories ===\n",
    "processed_count = 0\n",
    "max_stories = 2\n",
    "\n",
    "for story_id, num_frames in story_frame_map.items():\n",
    "    if processed_count >= max_stories:\n",
    "        break\n",
    "\n",
    "    story_path = os.path.join(story_root, f\"{story_id}.txt\")\n",
    "\n",
    "    if not os.path.exists(story_path):\n",
    "        print(f\"[!] Story not found: {story_path}\")\n",
    "        continue\n",
    "\n",
    "    with open(story_path, 'r', encoding='utf-8') as f:\n",
    "        full_text = f.read().strip()\n",
    "\n",
    "    # Break into N chunks\n",
    "    sentences = full_text.split('. ')\n",
    "    chunk_size = math.ceil(len(sentences) / num_frames)\n",
    "    sub_stories = ['. '.join(sentences[i:i + chunk_size]).strip() for i in range(0, len(sentences), chunk_size)]\n",
    "\n",
    "    for i, story in enumerate(sub_stories[:num_frames]):\n",
    "        try:\n",
    "            summary = sum2(story, max_length=50, min_length=35, do_sample=False)[0]['summary_text'].strip()\n",
    "            prompt = f\"{fixed}. {summary}\"\n",
    "\n",
    "            # Generate image\n",
    "            image = pipe(prompt).images[0]\n",
    "            filename = f\"{story_id}_{i+1}.png\"\n",
    "            image_path = os.path.join(\"generated_images\", filename)\n",
    "            image.save(image_path)\n",
    "\n",
    "            final_prompts.append({\n",
    "                \"story_id\": story_id,\n",
    "                \"frame_number\": i + 1,\n",
    "                \"prompt\": prompt,\n",
    "                \"image_file\": image_path\n",
    "            })\n",
    "\n",
    "            print(f\"[✓] Generated: {filename}\")\n",
    "\n",
    "        except Exception as e:\n",
    "            print(f\"[X] Error in {story_id}_{i+1}: {e}\")\n",
    "\n",
    "    processed_count += 1\n"
   ]
  },
  {
   "cell_type": "markdown",
   "metadata": {
    "id": "fqAUK-a6QGuq"
   },
   "source": [
    "## Visualize Generated Images with Prompts\n",
    "\n",
    "This cell displays a small set of generated images from the test stories for manual inspection. For each story ID:\n",
    "\n",
    "* The images are shown in frame order.\n",
    "* The corresponding prompt (combined visual style + summary) is printed above the image.\n",
    "* `IPython.display` is used for inline visualization in the notebook."
   ]
  },
  {
   "cell_type": "code",
   "execution_count": null,
   "metadata": {
    "colab": {
     "base_uri": "https://localhost:8080/",
     "height": 1000
    },
    "id": "yNiGQl7-8qWw",
    "outputId": "c261f3ef-9ceb-4f84-f811-108ac2c95e1a"
   },
   "outputs": [],
   "source": [
    "from IPython.display import Image as IPyImage, display\n",
    "\n",
    "sample_story_ids = list({entry['story_id'] for entry in final_prompts})\n",
    "\n",
    "for story_id in sample_story_ids:\n",
    "    entries = sorted(\n",
    "        [entry for entry in final_prompts if entry['story_id'] == story_id],\n",
    "        key=lambda x: x['frame_number']\n",
    "    )\n",
    "\n",
    "    for entry in entries:\n",
    "        print(f\"\\n {entry['story_id']} — Frame {entry['frame_number']}\")\n",
    "        print(f\"Prompt: {entry['prompt']}\\n\")\n",
    "        display(IPyImage(filename=entry[\"image_file\"]))\n"
   ]
  },
  {
   "cell_type": "markdown",
   "metadata": {
    "id": "vzUydlnSQTYQ"
   },
   "source": [
    "## Human Evaluation Results\n",
    "\n",
    "This markdown cell reports human evaluation scores for selected generated samples. Each story is manually assessed based on three criteria:\n",
    "\n",
    "- **Relevance**: How well the image reflects the content or summary of the story.\n",
    "- **Visual Quality**: The aesthetic and technical quality of the image.\n",
    "- **Consistency**: Whether generated frames maintain visual and narrative coherence across the story.\n",
    "\n",
    "These evaluations help benchmark the baseline performance and guide improvements in prompt design or model choice.\n"
   ]
  },
  {
   "cell_type": "markdown",
   "metadata": {
    "id": "KBSEpsFPI_Rt"
   },
   "source": [
    "**Human Evaluation**\n",
    "\n",
    "\n",
    "---\n",
    "\n",
    "\n",
    "**eng_story_0006**\\\n",
    "Relevance: Good\\\n",
    "Visual Quality: Excellent\\\n",
    "Consistency: Average\n",
    "\n",
    "\n",
    "---\n",
    "\n",
    "**eng_story_0011**\\\n",
    "Relevance: Terrible\\\n",
    "Visual Quality: Good\\\n",
    "Consistency: Terrible"
   ]
  },
  {
   "cell_type": "markdown",
   "metadata": {
    "id": "BQACe-1kQd85"
   },
   "source": [
    "## Archive and Download Generated Images\n",
    "\n",
    "This cell creates a ZIP archive of all the generated images and triggers a download for submission or local storage.\n",
    "\n",
    "- `shutil.make_archive(...)` compresses the `generated_images` directory into a `generated_images.zip` file.\n",
    "- `google.colab.files.download(...)` enables direct download of the ZIP file from the Colab environment.\n",
    "\n",
    "This is the final step in the baseline pipeline, preparing the generated outputs for evaluation or submission to MUSIA 2025.\n"
   ]
  },
  {
   "cell_type": "code",
   "execution_count": null,
   "metadata": {
    "colab": {
     "base_uri": "https://localhost:8080/",
     "height": 17
    },
    "id": "xBqsBD8t_Js4",
    "outputId": "73f6d873-21a8-4372-b039-96506e7e8f4f"
   },
   "outputs": [
    {
     "data": {
      "application/javascript": [
       "\n",
       "    async function download(id, filename, size) {\n",
       "      if (!google.colab.kernel.accessAllowed) {\n",
       "        return;\n",
       "      }\n",
       "      const div = document.createElement('div');\n",
       "      const label = document.createElement('label');\n",
       "      label.textContent = `Downloading \"${filename}\": `;\n",
       "      div.appendChild(label);\n",
       "      const progress = document.createElement('progress');\n",
       "      progress.max = size;\n",
       "      div.appendChild(progress);\n",
       "      document.body.appendChild(div);\n",
       "\n",
       "      const buffers = [];\n",
       "      let downloaded = 0;\n",
       "\n",
       "      const channel = await google.colab.kernel.comms.open(id);\n",
       "      // Send a message to notify the kernel that we're ready.\n",
       "      channel.send({})\n",
       "\n",
       "      for await (const message of channel.messages) {\n",
       "        // Send a message to notify the kernel that we're ready.\n",
       "        channel.send({})\n",
       "        if (message.buffers) {\n",
       "          for (const buffer of message.buffers) {\n",
       "            buffers.push(buffer);\n",
       "            downloaded += buffer.byteLength;\n",
       "            progress.value = downloaded;\n",
       "          }\n",
       "        }\n",
       "      }\n",
       "      const blob = new Blob(buffers, {type: 'application/binary'});\n",
       "      const a = document.createElement('a');\n",
       "      a.href = window.URL.createObjectURL(blob);\n",
       "      a.download = filename;\n",
       "      div.appendChild(a);\n",
       "      a.click();\n",
       "      div.remove();\n",
       "    }\n",
       "  "
      ],
      "text/plain": [
       "<IPython.core.display.Javascript object>"
      ]
     },
     "metadata": {},
     "output_type": "display_data"
    },
    {
     "data": {
      "application/javascript": [
       "download(\"download_185c891f-8bae-4cf6-b02d-30ed5dbd31d4\", \"generated_images.zip\", 11578159)"
      ],
      "text/plain": [
       "<IPython.core.display.Javascript object>"
      ]
     },
     "metadata": {},
     "output_type": "display_data"
    }
   ],
   "source": [
    "import shutil\n",
    "\n",
    "# Create a zip file from the folder\n",
    "shutil.make_archive(\"generated_images\", \"zip\", \"generated_images\")\n",
    "from google.colab import files\n",
    "files.download(\"generated_images.zip\")"
   ]
  }
 ],
 "metadata": {
  "accelerator": "GPU",
  "colab": {
   "collapsed_sections": [
    "rpyOSqdVO4no",
    "JLHEXzqYO8NR",
    "OrnvpPhFOire",
    "pi5q2K6qOqGg"
   ],
   "gpuType": "T4",
   "provenance": []
  },
  "kernelspec": {
   "display_name": "Python 3 (ipykernel)",
   "language": "python",
   "name": "python3"
  },
  "language_info": {
   "codemirror_mode": {
    "name": "ipython",
    "version": 3
   },
   "file_extension": ".py",
   "mimetype": "text/x-python",
   "name": "python",
   "nbconvert_exporter": "python",
   "pygments_lexer": "ipython3",
   "version": "3.9.7"
  }
 },
 "nbformat": 4,
 "nbformat_minor": 1
}
